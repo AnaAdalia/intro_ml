{
 "cells": [
  {
   "cell_type": "code",
   "execution_count": 121,
   "metadata": {},
   "outputs": [],
   "source": [
    "import pandas as pd\n",
    "import numpy as np\n",
    "import os\n",
    "from sklearn import tree\n",
    "from sklearn.ensemble import RandomForestClassifier\n",
    "from sklearn.svm import SVC\n",
    "from sklearn.linear_model import LogisticRegression\n",
    "from sklearn.metrics import accuracy_score"
   ]
  },
  {
   "cell_type": "code",
   "execution_count": 122,
   "metadata": {
    "scrolled": true
   },
   "outputs": [
    {
     "data": {
      "text/plain": [
       "Index(['ID', 'id_ubicacion', 'fecha', 'salario', 'sexo', 'edad', 'Tipo_nomina',\n",
       "       'Antiguedad', 'casado_unionlibre', 'tipocargo', 'sindicalizado',\n",
       "       'retiro'],\n",
       "      dtype='object')"
      ]
     },
     "execution_count": 122,
     "metadata": {},
     "output_type": "execute_result"
    }
   ],
   "source": [
    "os.chdir(r'C:\\Users\\Home\\Documents\\Laboral2020\\Konrad Lorenz\\MachineLearning\\Clase8')\n",
    "df=pd.read_excel('datosChurn.xlsx')\n",
    "df.columns"
   ]
  },
  {
   "cell_type": "code",
   "execution_count": 123,
   "metadata": {},
   "outputs": [
    {
     "name": "stderr",
     "output_type": "stream",
     "text": [
      "C:\\Users\\Home\\Anaconda3\\lib\\site-packages\\ipykernel_launcher.py:3: UserWarning: Pandas doesn't allow columns to be created via a new attribute name - see https://pandas.pydata.org/pandas-docs/stable/indexing.html#attribute-access\n",
      "  This is separate from the ipykernel package so we can avoid doing imports until\n",
      "C:\\Users\\Home\\Anaconda3\\lib\\site-packages\\ipykernel_launcher.py:10: UserWarning: Pandas doesn't allow columns to be created via a new attribute name - see https://pandas.pydata.org/pandas-docs/stable/indexing.html#attribute-access\n",
      "  # Remove the CWD from sys.path while we load stuff.\n"
     ]
    },
    {
     "data": {
      "text/plain": [
       "Index(['Masculino', 'LEY 50 NOMINAL TERMINO FIJO',\n",
       "       'LEY 50 NOMINAL TERMINO INDEFIN', 'LEY TRADICIONAL NOMINAL', 'Casado',\n",
       "       'Comercial', 'Lideres-Claves', 'Operativo', 'Soporte',\n",
       "       'NO SINDICALIZADO', 'B', 'C', 'D', 'E', 'F'],\n",
       "      dtype='object')"
      ]
     },
     "execution_count": 123,
     "metadata": {},
     "output_type": "execute_result"
    }
   ],
   "source": [
    "df_dummies_sexo=pd.get_dummies(df['sexo'])\n",
    "df_dummies_sexo=df_dummies_sexo.iloc[:,[1]]\n",
    "df_dummies_sexo.colums=['Masculino']\n",
    "\n",
    "df_dummies_Tipo_nomina=pd.get_dummies(df['Tipo_nomina'])\n",
    "df_dummies_Tipo_nomina=df_dummies_Tipo_nomina.iloc[:,[1,2,3]]\n",
    "\n",
    "df_dummies_casado_unionlibre=pd.get_dummies(df['casado_unionlibre'])\n",
    "df_dummies_casado_unionlibre=df_dummies_casado_unionlibre.iloc[:,[1]]\n",
    "df_dummies_casado_unionlibre.colums=['casado']\n",
    "\n",
    "\n",
    "df_dummies_tipocargo=pd.get_dummies(df['tipocargo'])\n",
    "df_dummies_tipocargo=df_dummies_tipocargo.iloc[:,[1,2,3,4]]\n",
    "\n",
    "\n",
    "df_dummies_sindicalizado=pd.get_dummies(df['sindicalizado'])\n",
    "df_dummies_sindicalizado=df_dummies_sindicalizado.iloc[:,[1]]\n",
    "\n",
    "df_dummies_ubicacion=pd.get_dummies(df['id_ubicacion'])\n",
    "df_dummies_ubicacion=df_dummies_ubicacion.iloc[:,[1,2,3,4,5]]\n",
    "\n",
    "df_dummies=pd.concat([df_dummies_sexo,df_dummies_Tipo_nomina,df_dummies_casado_unionlibre,df_dummies_tipocargo,df_dummies_sindicalizado,df_dummies_ubicacion], axis=1)\n",
    "df_dummies.rename(columns = {'M':'Masculino', 1:'Casado'}, inplace = True) \n",
    "df_dummies.columns"
   ]
  },
  {
   "cell_type": "code",
   "execution_count": 124,
   "metadata": {},
   "outputs": [],
   "source": [
    "df=df.drop(columns=['fecha', 'sexo', 'Tipo_nomina', 'casado_unionlibre', 'tipocargo', 'sindicalizado', \"id_ubicacion\"])"
   ]
  },
  {
   "cell_type": "code",
   "execution_count": 125,
   "metadata": {},
   "outputs": [
    {
     "data": {
      "text/plain": [
       "Index(['ID', 'salario', 'edad', 'Antiguedad', 'retiro', 'Masculino',\n",
       "       'LEY 50 NOMINAL TERMINO FIJO', 'LEY 50 NOMINAL TERMINO INDEFIN',\n",
       "       'LEY TRADICIONAL NOMINAL', 'Casado', 'Comercial', 'Lideres-Claves',\n",
       "       'Operativo', 'Soporte', 'NO SINDICALIZADO', 'B', 'C', 'D', 'E', 'F'],\n",
       "      dtype='object')"
      ]
     },
     "execution_count": 125,
     "metadata": {},
     "output_type": "execute_result"
    }
   ],
   "source": [
    "df=pd.concat([df,df_dummies], axis=1)\n",
    "df.columns"
   ]
  },
  {
   "cell_type": "code",
   "execution_count": 138,
   "metadata": {},
   "outputs": [],
   "source": [
    "# Select only the numeric features\n",
    "X=df.iloc[:,[1,2,3,5,6,7,8,9,10,11,12,13,14,15,16,17,18,19] ]\n",
    "# Convert bools to floats\n",
    "y=df.iloc[:,4]\n",
    "from sklearn.model_selection import train_test_split\n",
    "X_train, X_test, y_train, y_test = train_test_split(X, y, test_size=0.33, random_state=42)"
   ]
  },
  {
   "cell_type": "markdown",
   "metadata": {},
   "source": [
    "# Random Forest"
   ]
  },
  {
   "cell_type": "code",
   "execution_count": 145,
   "metadata": {},
   "outputs": [],
   "source": [
    "#rf = RandomForestClassifier()\n",
    "#rf.fit(X_train, y_test)\n",
    "#rfc_pred = rf.predict(X_test)\n",
    "#rfc_pred"
   ]
  },
  {
   "cell_type": "code",
   "execution_count": 23,
   "metadata": {},
   "outputs": [
    {
     "data": {
      "text/plain": [
       "(473,)"
      ]
     },
     "execution_count": 23,
     "metadata": {},
     "output_type": "execute_result"
    }
   ],
   "source": [
    "y_test.shape"
   ]
  },
  {
   "cell_type": "code",
   "execution_count": null,
   "metadata": {},
   "outputs": [],
   "source": []
  }
 ],
 "metadata": {
  "kernelspec": {
   "display_name": "Python 3",
   "language": "python",
   "name": "python3"
  },
  "language_info": {
   "codemirror_mode": {
    "name": "ipython",
    "version": 3
   },
   "file_extension": ".py",
   "mimetype": "text/x-python",
   "name": "python",
   "nbconvert_exporter": "python",
   "pygments_lexer": "ipython3",
   "version": "3.7.3"
  }
 },
 "nbformat": 4,
 "nbformat_minor": 2
}
